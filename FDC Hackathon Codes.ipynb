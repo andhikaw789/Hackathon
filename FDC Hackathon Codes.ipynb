{
 "cells": [
  {
   "cell_type": "markdown",
   "id": "8d899c94",
   "metadata": {},
   "source": [
    "This is the codes that I use for Financial Data Challange PT.Sharing Vision Indonesia x BRI. I won't upload the data, only codes"
   ]
  },
  {
   "cell_type": "code",
   "execution_count": null,
   "id": "baca3b10",
   "metadata": {},
   "outputs": [],
   "source": [
    "import numpy as np\n",
    "import pandas as pd\n",
    "import matplotlib.pyplot as plt\n",
    "import seaborn as sns\n",
    "\n",
    "import warnings\n",
    "warnings.filterwarnings('ignore')"
   ]
  },
  {
   "cell_type": "code",
   "execution_count": null,
   "id": "6a31b5e4",
   "metadata": {},
   "outputs": [],
   "source": [
    "data = pd.read_csv(\"xxxxxxx.csv\")"
   ]
  },
  {
   "cell_type": "code",
   "execution_count": null,
   "id": "5ec9993a",
   "metadata": {},
   "outputs": [],
   "source": [
    "pd.set_option('display.max_columns', None)\n",
    "data.head(15)"
   ]
  },
  {
   "cell_type": "code",
   "execution_count": null,
   "id": "259ad761",
   "metadata": {},
   "outputs": [],
   "source": [
    "data.info(verbose=True, null_counts=True)"
   ]
  },
  {
   "cell_type": "markdown",
   "id": "6949691b",
   "metadata": {},
   "source": [
    "#### I'll skip the Exploratory Data Analysis"
   ]
  },
  {
   "cell_type": "code",
   "execution_count": null,
   "id": "042bb2b3",
   "metadata": {},
   "outputs": [],
   "source": [
    "data_prep = data.copy()"
   ]
  },
  {
   "cell_type": "markdown",
   "id": "b3cb4108",
   "metadata": {},
   "source": [
    "# Data split"
   ]
  },
  {
   "cell_type": "code",
   "execution_count": null,
   "id": "dd4e865d",
   "metadata": {},
   "outputs": [],
   "source": [
    "from sklearn.model_selection import train_test_split\n",
    "from collections import Counter"
   ]
  },
  {
   "cell_type": "code",
   "execution_count": null,
   "id": "bf252251",
   "metadata": {},
   "outputs": [],
   "source": [
    "data_x = data_prep.drop('y', axis=1).copy()\n",
    "data_y = data_prep['y']"
   ]
  },
  {
   "cell_type": "code",
   "execution_count": null,
   "id": "4247c506",
   "metadata": {},
   "outputs": [],
   "source": [
    "x_train, x_test, y_train, y_test = train_test_split(data_x, data_y, test_size=0.25, random_state=5)"
   ]
  },
  {
   "cell_type": "code",
   "execution_count": null,
   "id": "64527d02",
   "metadata": {},
   "outputs": [],
   "source": [
    "print(Counter(y_train))\n",
    "print(x_train.shape)"
   ]
  },
  {
   "cell_type": "markdown",
   "id": "d2fd32ab",
   "metadata": {},
   "source": [
    "# Imputing Missing Value For Categorical"
   ]
  },
  {
   "cell_type": "code",
   "execution_count": null,
   "id": "0f801e55",
   "metadata": {},
   "outputs": [],
   "source": [
    "mod = ['x6', 'x7', 'x21', 'x51', 'x79', 'x80', 'x89', 'x104', 'x108', 'x112', 'x118']\n",
    "\n",
    "for j in mod:\n",
    "  x_train[j].fillna(x_train[j].mode().iloc[0], inplace=True)\n",
    "\n",
    "for j in mod:\n",
    "  x_test[j].fillna(x_train[j].mode().iloc[0], inplace=True)"
   ]
  },
  {
   "cell_type": "markdown",
   "id": "8ae33384",
   "metadata": {},
   "source": [
    "# Encoding"
   ]
  },
  {
   "cell_type": "code",
   "execution_count": null,
   "id": "f90c3ca9",
   "metadata": {},
   "outputs": [],
   "source": [
    "from sklearn.preprocessing import OneHotEncoder\n",
    "from sklearn.preprocessing import LabelEncoder\n",
    "from sklearn.preprocessing import OrdinalEncoder"
   ]
  },
  {
   "cell_type": "code",
   "execution_count": null,
   "id": "6055153c",
   "metadata": {},
   "outputs": [],
   "source": [
    "ohe = OneHotEncoder(categories=[['Laki-laki', 'Perempuan']] ,handle_unknown='ignore', sparse = False)\n",
    "x_train79 = np.array(x_train['x79']).reshape(-1,1)\n",
    "ohe.fit(x_train79)\n",
    "x_train['x79'] = ohe.transform(x_train79)\n",
    "x_test79 = np.array(x_test['x79']).reshape(-1,1)\n",
    "x_test['x79'] = ohe.transform(x_test79)"
   ]
  },
  {
   "cell_type": "code",
   "execution_count": null,
   "id": "ba67dc08",
   "metadata": {},
   "outputs": [],
   "source": [
    "x_train[\"x21\"] = x_train[\"x21\"].map({\"Jan\":0,\"Feb\":1, \"Mar\":2, \"Apr\":3, \"May\":4, \"Jun\":5,\n",
    "                                         \"Jul\":6, \"Aug\":7, \"Sep\":8, \"Oct\":9, \"Nov\":10, \"Dec\":11})\n",
    "\n",
    "x_test[\"x21\"] = x_test[\"x21\"].map({\"Jan\":0,\"Feb\":1, \"Mar\":2, \"Apr\":3, \"May\":4, \"Jun\":5,\n",
    "                                         \"Jul\":6, \"Aug\":7, \"Sep\":8, \"Oct\":9, \"Nov\":10, \"Dec\":11})"
   ]
  },
  {
   "cell_type": "code",
   "execution_count": null,
   "id": "f1cee67d",
   "metadata": {},
   "outputs": [],
   "source": [
    "lenc = LabelEncoder()\n",
    "lenc.fit(x_train['x89'])\n",
    "x_train['x89'] = lenc.transform(x_train['x89'])\n",
    "x_test['x89'] = lenc.transform(x_test['x89'])"
   ]
  },
  {
   "cell_type": "code",
   "execution_count": null,
   "id": "8c79a831",
   "metadata": {},
   "outputs": [],
   "source": [
    "x_train[\"x112\"] = x_train[\"x112\"].map({\"Jan\":0,\"Feb\":1, \"Mar\":2, \"Apr\":3, \"May\":4, \"Jun\":5,\n",
    "                                         \"Jul\":6, \"Aug\":7, \"Sep\":8, \"Oct\":9, \"Nov\":10, \"Dec\":11})\n",
    "\n",
    "x_test[\"x112\"] = x_test[\"x112\"].map({\"Jan\":0,\"Feb\":1, \"Mar\":2, \"Apr\":3, \"May\":4, \"Jun\":5,\n",
    "                                         \"Jul\":6, \"Aug\":7, \"Sep\":8, \"Oct\":9, \"Nov\":10, \"Dec\":11})"
   ]
  },
  {
   "cell_type": "code",
   "execution_count": null,
   "id": "99ca70b4",
   "metadata": {},
   "outputs": [],
   "source": [
    "edu = ['Tidak sekolah', 'SD', 'SMP', 'SMA/SMK', 'S1/S2/S3']\n",
    "ore = OrdinalEncoder(categories=([edu]))\n",
    "ore.fit(x_train[['x108']])\n",
    "x_train['x108'] = ore.transform(x_train[['x108']])\n",
    "x_test['x108'] = ore.transform(x_test[['x108']])"
   ]
  },
  {
   "cell_type": "markdown",
   "id": "98eb1ead",
   "metadata": {},
   "source": [
    "# Imputing Missing Value For Numeric Data\n",
    "I'm using KNN imputer"
   ]
  },
  {
   "cell_type": "code",
   "execution_count": null,
   "id": "bf3be1ae",
   "metadata": {},
   "outputs": [],
   "source": [
    "from sklearn.impute import KNNImputer"
   ]
  },
  {
   "cell_type": "code",
   "execution_count": null,
   "id": "f6ecc513",
   "metadata": {},
   "outputs": [],
   "source": [
    "imputer = KNNImputer(n_neighbors=1, weights='uniform', metric='nan_euclidean')\n",
    "imputer.fit(x_train)\n",
    "x_train = imputer.transform(x_train)\n",
    "x_test = imputer.transform(x_test)"
   ]
  },
  {
   "cell_type": "code",
   "execution_count": null,
   "id": "9669ef2d",
   "metadata": {},
   "outputs": [],
   "source": [
    "x_train = pd.DataFrame(x_train, columns=data_x.columns)\n",
    "x_test = pd.DataFrame(x_test, columns=data_x.columns)"
   ]
  },
  {
   "cell_type": "markdown",
   "id": "17c50855",
   "metadata": {},
   "source": [
    "# Feature Selection\n",
    "I'm using F-score ANOVA for feature selection and used 34 highest F-score"
   ]
  },
  {
   "cell_type": "code",
   "execution_count": null,
   "id": "6c3bc314",
   "metadata": {},
   "outputs": [],
   "source": [
    "from sklearn.feature_selection import SelectKBest, f_classif"
   ]
  },
  {
   "cell_type": "code",
   "execution_count": null,
   "id": "8db81e62",
   "metadata": {},
   "outputs": [],
   "source": [
    "filter = SelectKBest(f_classif, k=34)\n",
    "filter.fit(x_train, y_train)\n",
    "\n",
    "x_train_filter = filter.transform(x_train)\n",
    "x_test_filter = filter.transform(x_test)\n",
    "\n",
    "print(\"Before feature selection\", x_train.shape)\n",
    "print(\"After feature selection\", x_train_filter.shape)"
   ]
  },
  {
   "cell_type": "code",
   "execution_count": null,
   "id": "5ae1004b",
   "metadata": {},
   "outputs": [],
   "source": [
    "print(\"Score of features\", filter.scores_)\n",
    "plt.figure(figsize=(20,23))\n",
    "feature_importance = pd.Series(filter.scores_, index=x_train.columns)\n",
    "feature_importance.sort_values().plot(kind='barh')\n",
    "plt.show()"
   ]
  },
  {
   "cell_type": "markdown",
   "id": "7153f2af",
   "metadata": {},
   "source": [
    "# Modeling"
   ]
  },
  {
   "cell_type": "code",
   "execution_count": null,
   "id": "7d3b3967",
   "metadata": {},
   "outputs": [],
   "source": [
    "from sklearn.metrics import accuracy_score\n",
    "from sklearn.metrics import confusion_matrix\n",
    "from sklearn.metrics import recall_score\n",
    "from sklearn.metrics import precision_score\n",
    "from sklearn.metrics import classification_report, accuracy_score\n",
    "from sklearn.model_selection import cross_val_score\n",
    "from sklearn.model_selection import KFold\n",
    "from sklearn.model_selection import cross_validate\n",
    "from sklearn.model_selection import GridSearchCV\n",
    "from sklearn.metrics import plot_confusion_matrix"
   ]
  },
  {
   "cell_type": "markdown",
   "id": "0085bedb",
   "metadata": {},
   "source": [
    "### I'm using multilayer perceptron from neural network"
   ]
  },
  {
   "cell_type": "code",
   "execution_count": null,
   "id": "57bfc63c",
   "metadata": {},
   "outputs": [],
   "source": [
    "from sklearn.neural_network import MLPClassifier"
   ]
  },
  {
   "cell_type": "code",
   "execution_count": null,
   "id": "82047e89",
   "metadata": {},
   "outputs": [],
   "source": [
    "mlp = MLPClassifier(max_iter=120, random_state=5, hidden_layer_sizes=(100,3))\n",
    "\n",
    "mlp.fit(x_train_filter, y_train)\n",
    "\n",
    "predictionmlp = mlp.predict(x_test_filter)\n",
    "print(confusion_matrix(y_test, predictionmlp))\n",
    "print(\"Akurasi dari Multilayer Perceptron adalah: %.2f\" % (accuracy_score(y_test, predictionmlp)*100) )\n",
    "print(\"Recall dari Multilayer Perceptron adalah:\",recall_score(y_test, predictionmlp)*100)\n",
    "print(\"Precision dari Multilayer Perceptron adalah:\",precision_score(y_test, predictionmlp)*100)\n",
    "print(\"\")\n",
    "\n",
    "plot_confusion_matrix(mlp, x_test_filter, y_test, cmap=plt.cm.Blues, values_format='.0f')\n",
    "sns.set(style=None)  \n",
    "plt.show()"
   ]
  },
  {
   "cell_type": "code",
   "execution_count": null,
   "id": "7d869d37",
   "metadata": {},
   "outputs": [],
   "source": [
    "prediction_test = mlp.predict(x_test_filter)\n",
    "prediction_train = mlp.predict(x_train_filter)\n",
    "training_acc = accuracy_score(y_train, prediction_train)\n",
    "testing_acc = accuracy_score(y_test, prediction_test)\n",
    "\n",
    "print(\"Training Accuracy: {}\".format(training_acc))\n",
    "print(\"Testing Accuracy: {}\".format(testing_acc))\n",
    "print(classification_report(y_test, prediction_test))"
   ]
  },
  {
   "cell_type": "markdown",
   "id": "5ec39c92",
   "metadata": {},
   "source": [
    "## Cross Validation"
   ]
  },
  {
   "cell_type": "code",
   "execution_count": null,
   "id": "257cc337",
   "metadata": {},
   "outputs": [],
   "source": [
    "kfold = KFold(10, shuffle=True)\n",
    "\n",
    "scores = cross_validate(MLPClassifier(max_iter=120, random_state=5, hidden_layer_sizes=(100,3)), x_train_filter, y_train, cv=kfold, scoring=['accuracy','precision','recall', 'roc_auc'])\n",
    "\n",
    "print('Accuracy : ',scores['test_accuracy'].mean())    \n",
    "print('Precision : ',scores['test_precision'].mean())  \n",
    "print('Recall/ sensitivity : ',scores['test_recall'].mean()) \n",
    "print('AUC ROC : ',scores['test_roc_auc'].mean()) "
   ]
  },
  {
   "cell_type": "markdown",
   "id": "139b00a5",
   "metadata": {},
   "source": [
    "## ROC AUC curve"
   ]
  },
  {
   "cell_type": "code",
   "execution_count": null,
   "id": "d241afca",
   "metadata": {},
   "outputs": [],
   "source": [
    "from sklearn.metrics import roc_curve, auc, roc_auc_score"
   ]
  },
  {
   "cell_type": "code",
   "execution_count": null,
   "id": "3fb966db",
   "metadata": {},
   "outputs": [],
   "source": [
    "r_probs = [0 for _ in range(len(y_test))]\n",
    "mlp_probs = mlp.predict_proba(x_test_filter)\n",
    "\n",
    "mlp_probs = mlp_probs[:, 1]\n",
    "\n",
    "r_auc = roc_auc_score(y_test, r_probs)\n",
    "mlp_auc = roc_auc_score(y_test, mlp_probs)"
   ]
  },
  {
   "cell_type": "code",
   "execution_count": null,
   "id": "e78a90a6",
   "metadata": {},
   "outputs": [],
   "source": [
    "print('Random (chance) Prediction: AUROC = %.3f' % (r_auc))\n",
    "print('MLP: AUROC = %.5f' % (mlp_auc))"
   ]
  },
  {
   "cell_type": "code",
   "execution_count": null,
   "id": "e493883b",
   "metadata": {},
   "outputs": [],
   "source": [
    "r_fpr, r_tpr, _ = roc_curve(y_test, r_probs)\n",
    "mlp_fpr, mlp_tpr, _ = roc_curve(y_test, mlp_probs)"
   ]
  },
  {
   "cell_type": "code",
   "execution_count": null,
   "id": "070b5402",
   "metadata": {},
   "outputs": [],
   "source": [
    "plt.plot(r_fpr, r_tpr, linestyle='--', label='Random prediction (AUROC = %0.3f)' % r_auc)\n",
    "plt.plot(mlp_fpr, mlp_tpr, marker='.', label='MLP (AUROC = %0.5f)' % mlp_auc)\n",
    "\n",
    "plt.title('ROC Plot')\n",
    "# Axis labels\n",
    "plt.xlabel('False Positive Rate')\n",
    "plt.ylabel('True Positive Rate')\n",
    "# Show legend\n",
    "plt.legend() # \n",
    "# Show plot\n",
    "plt.show()"
   ]
  },
  {
   "cell_type": "markdown",
   "id": "42c87b8b",
   "metadata": {},
   "source": [
    "# Prediction"
   ]
  },
  {
   "cell_type": "code",
   "execution_count": null,
   "id": "b8a1d2a1",
   "metadata": {},
   "outputs": [],
   "source": [
    "testing_data = pd.read_csv('xxxxxxxxx.csv')"
   ]
  },
  {
   "cell_type": "markdown",
   "id": "ea9946e7",
   "metadata": {},
   "source": [
    "## Data Split"
   ]
  },
  {
   "cell_type": "code",
   "execution_count": null,
   "id": "580cfb2f",
   "metadata": {},
   "outputs": [],
   "source": [
    "data_x = data.drop('y', axis=1)\n",
    "data_y = data['y']"
   ]
  },
  {
   "cell_type": "code",
   "execution_count": null,
   "id": "968da661",
   "metadata": {},
   "outputs": [],
   "source": [
    "mod = ['x6', 'x7', 'x21', 'x51', 'x79', 'x80', 'x89', 'x104', 'x108', 'x112', 'x118']\n",
    "\n",
    "for j in mod:\n",
    "  data_x[j].fillna(data_x[j].mode().iloc[0], inplace=True)\n",
    "\n",
    "for j in mod:\n",
    "  testing_data[j].fillna(data_x[j].mode().iloc[0], inplace=True)"
   ]
  },
  {
   "cell_type": "code",
   "execution_count": null,
   "id": "d0d8135d",
   "metadata": {},
   "outputs": [],
   "source": [
    "ohe = OneHotEncoder(categories=[['Laki-laki', 'Perempuan']] ,handle_unknown='ignore', sparse = False)\n",
    "data_x79 = np.array(data_x['x79']).reshape(-1,1)\n",
    "ohe.fit(data_x79)\n",
    "data_x['x79'] = ohe.transform(data_x79)\n",
    "testing_datax79 = np.array(testing_data['x79']).reshape(-1,1)\n",
    "testing_data['x79'] = ohe.transform(testing_datax79)"
   ]
  },
  {
   "cell_type": "code",
   "execution_count": null,
   "id": "bf34bd5e",
   "metadata": {},
   "outputs": [],
   "source": [
    "data_x[\"x21\"] = data_x[\"x21\"].map({\"Jan\":0,\"Feb\":1, \"Mar\":2, \"Apr\":3, \"May\":4, \"Jun\":5,\n",
    "                                         \"Jul\":6, \"Aug\":7, \"Sep\":8, \"Oct\":9, \"Nov\":10, \"Dec\":11})\n",
    "\n",
    "testing_data[\"x21\"] = testing_data[\"x21\"].map({\"Jan\":0,\"Feb\":1, \"Mar\":2, \"Apr\":3, \"May\":4, \"Jun\":5,\n",
    "                                         \"Jul\":6, \"Aug\":7, \"Sep\":8, \"Oct\":9, \"Nov\":10, \"Dec\":11})"
   ]
  },
  {
   "cell_type": "code",
   "execution_count": null,
   "id": "6dd8c6ce",
   "metadata": {},
   "outputs": [],
   "source": [
    "lenc = LabelEncoder()\n",
    "lenc.fit(data_x['x89'])\n",
    "data_x['x89'] = lenc.transform(data_x['x89'])\n",
    "testing_data['x89'] = lenc.transform(testing_data['x89'])"
   ]
  },
  {
   "cell_type": "code",
   "execution_count": null,
   "id": "48c244de",
   "metadata": {},
   "outputs": [],
   "source": [
    "data_x[\"x112\"] = data_x[\"x112\"].map({\"Jan\":0,\"Feb\":1, \"Mar\":2, \"Apr\":3, \"May\":4, \"Jun\":5,\n",
    "                                         \"Jul\":6, \"Aug\":7, \"Sep\":8, \"Oct\":9, \"Nov\":10, \"Dec\":11})\n",
    "\n",
    "testing_data[\"x112\"] = testing_data[\"x112\"].map({\"Jan\":0,\"Feb\":1, \"Mar\":2, \"Apr\":3, \"May\":4, \"Jun\":5,\n",
    "                                         \"Jul\":6, \"Aug\":7, \"Sep\":8, \"Oct\":9, \"Nov\":10, \"Dec\":11})"
   ]
  },
  {
   "cell_type": "code",
   "execution_count": null,
   "id": "1f20cc3f",
   "metadata": {},
   "outputs": [],
   "source": [
    "edu = ['Tidak sekolah', 'SD', 'SMP', 'SMA/SMK', 'S1/S2/S3']\n",
    "ore = OrdinalEncoder(categories=([edu]))\n",
    "ore.fit(data_x[['x108']])\n",
    "data_x['x108'] = ore.transform(data_x[['x108']])\n",
    "testing_data['x108'] = ore.transform(testing_data[['x108']])"
   ]
  },
  {
   "cell_type": "code",
   "execution_count": null,
   "id": "4d5a3112",
   "metadata": {},
   "outputs": [],
   "source": [
    "imputer = KNNImputer(n_neighbors=1, weights='uniform', metric='nan_euclidean')\n",
    "imputer.fit(data_x)\n",
    "Xtrain = imputer.transform(data_x)\n",
    "Xtest = imputer.transform(testing_data)"
   ]
  },
  {
   "cell_type": "code",
   "execution_count": null,
   "id": "cb1f602b",
   "metadata": {},
   "outputs": [],
   "source": [
    "Xtrain = pd.DataFrame(Xtrain, columns=data_x.columns)\n",
    "Xtest = pd.DataFrame(Xtest, columns=testing_data.columns)"
   ]
  },
  {
   "cell_type": "code",
   "execution_count": null,
   "id": "8a50ada3",
   "metadata": {},
   "outputs": [],
   "source": [
    "filter = SelectKBest(f_classif, k=34)\n",
    "filter.fit(Xtrain, data_y)\n",
    "\n",
    "Xtrain_filter = filter.transform(Xtrain)\n",
    "Xtest_filter = filter.transform(Xtest)\n",
    "\n",
    "print(\"Before feature selection\", Xtrain.shape)\n",
    "print(\"After feature selection\", Xtrain_filter.shape)"
   ]
  },
  {
   "cell_type": "code",
   "execution_count": null,
   "id": "bed61d02",
   "metadata": {},
   "outputs": [],
   "source": [
    "mlp = MLPClassifier(max_iter=120, random_state=5, hidden_layer_sizes=(100,3))\n",
    "\n",
    "mlp.fit(Xtrain_filter, data_y)\n",
    "\n",
    "predictionmlp = mlp.predict(Xtest_filter)"
   ]
  },
  {
   "cell_type": "code",
   "execution_count": null,
   "id": "711d4485",
   "metadata": {},
   "outputs": [],
   "source": [
    "prediction_result = pd.DataFrame(predictionmlp, columns=['Predicted'])"
   ]
  },
  {
   "cell_type": "code",
   "execution_count": null,
   "id": "af38b9d9",
   "metadata": {},
   "outputs": [],
   "source": [
    "prediction_result.index.name='Id'"
   ]
  },
  {
   "cell_type": "code",
   "execution_count": null,
   "id": "c1cb2932",
   "metadata": {},
   "outputs": [],
   "source": [
    "prediction_result.to_csv('abcdefg.csv', index=True, header=True)"
   ]
  },
  {
   "cell_type": "code",
   "execution_count": null,
   "id": "bd03f195",
   "metadata": {},
   "outputs": [],
   "source": []
  }
 ],
 "metadata": {
  "kernelspec": {
   "display_name": "Python 3",
   "language": "python",
   "name": "python3"
  },
  "language_info": {
   "codemirror_mode": {
    "name": "ipython",
    "version": 3
   },
   "file_extension": ".py",
   "mimetype": "text/x-python",
   "name": "python",
   "nbconvert_exporter": "python",
   "pygments_lexer": "ipython3",
   "version": "3.8.8"
  }
 },
 "nbformat": 4,
 "nbformat_minor": 5
}
